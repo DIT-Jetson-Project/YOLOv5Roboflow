{
 "cells": [
  {
   "cell_type": "markdown",
   "metadata": {},
   "source": [
    "<img src=\"https://firebasestorage.googleapis.com/v0/b/deep-learning-crash-course.appspot.com/o/Logo.png?alt=media&token=06318ee3-d7a0-44a0-97ae-2c95f110e3ac\" width=\"100\" height=\"100\" align=\"right\"/>"
   ]
  },
  {
   "cell_type": "markdown",
   "metadata": {},
   "source": [
    "# YOLOv5 (Step-By-Step Tutorial)"
   ]
  },
  {
   "cell_type": "markdown",
   "metadata": {},
   "source": [
    "<img src=\"https://firebasestorage.googleapis.com/v0/b/yolo-tutorial.appspot.com/o/Yolov5-1.gif?alt=media&token=3ee8fe7e-7401-4718-84ae-cecb1d1a33c9\" width=\"900\" style=\"float:center\"/>"
   ]
  },
  {
   "cell_type": "markdown",
   "metadata": {},
   "source": [
    "## 1. Introduction"
   ]
  },
  {
   "cell_type": "markdown",
   "metadata": {},
   "source": [
    "### <font color='Orange'> Objectives </font>\n",
    "<font size=\"3\">**In this tutorial, we are going to setup the <span style=\"color:#4285F4\">YOLOv5</span> model in our local computer and going to use it to detect some objects from different examples.**</font>\n",
    "\n",
    "<font size=\"3\">**To do so we will take the following steps:**</font>\n",
    "\n",
    "> <font size=\"3\">**Installing CUDA**</font><br>\n",
    "> <font size=\"3\"></font><br>\n",
    "> <font size=\"3\">**Installing PyTorch**</font><br>\n",
    "> <font size=\"3\"></font><br>\n",
    "> <font size=\"3\">**Installing Yolov5**</font><br>"
   ]
  },
  {
   "cell_type": "markdown",
   "metadata": {},
   "source": [
    "### <font color='Orange'> What is YOLOv5? </font>\n",
    "\n",
    "<font size=\"3\">**<span style=\"color:#4285F4\">YOLOv5</span> 🚀 is a family of object detection architectures and models pretrained on the <span style=\"color:#4285F4\">[COCO dataset](https://cocodataset.org/#home)</span>, and represents [Ultralytics](https://ultralytics.com/) open-source research into future vision AI methods, incorporating lessons learned and best practices evolved over thousands of hours of research and development.**</font>\n",
    "\n",
    "<font size=\"3\">**<span style=\"color:#4285F4\">YOLO</span> an acronym for <span style=\"color:#4285F4\">'You only look once'</span>, is an object detection algorithm that divides images into a grid system. Each cell in the grid is responsible for detecting objects within itself.**</font>\n",
    "\n",
    "<font size=\"3\">**<span style=\"color:#4285F4\">YOLO</span> is one of the most famous <span style=\"color:#4285F4\">object detection algorithms</span> due to its <span style=\"color:#4285F4\">speed</span> and <span style=\"color:#4285F4\">accuracy</span>.**</font>\n",
    "\n",
    "Reference: https://docs.ultralytics.com/"
   ]
  },
  {
   "cell_type": "markdown",
   "metadata": {},
   "source": [
    "### <font color='Orange'> Why YOLOv5? </font>\n",
    "\n",
    "<font size=\"3\">**<span style=\"color:#4285F4\">YOLOv5</span> is the Leader in Realtime Object Detection, because of:**</font>\n",
    "\n",
    "> <font size=\"3\">**PyTorch Implementation**</font>\n",
    ">> <font size=\"3\">This is the first native release of models in the <span style=\"color:#4285F4\">YOLO</span> family to be written in <span style=\"color:#4285F4\">PyTorch</span> first rather than <span style=\"color:#4285F4\">PJ Reddie's Darknet</span>. Darknet is an incredibly flexible research framework, but it is not built with production environments in mind. It has a smaller community of users. Taken together, this results in Darknet being more challenging to configure and less production-ready.**</font><br>\n",
    ">> <font size=\"3\"></font><br>\n",
    "> <font size=\"3\">**Because <span style=\"color:#4285F4\">YOLOv5</span> is implemented in PyTorch initially, it benefits from the established PyTorch ecosystem: support is simpler, and deployment is easier. Moreover as a more widely known research framework, iterating on YOLOv5 may be easier for the broader research community. This also makes deploying to mobile devices simpler as the model can be compiled to ONNX and CoreML with ease.</font>\n",
    "\n",
    "> <font size=\"3\">**Fast in speed**</font>\n",
    ">> <font size=\"3\">In a <span style=\"color:#4285F4\">YOLOv5</span> Colab notebook, running a Tesla P100, we saw inference times up to 0.007 seconds per image, meaning <span style=\"color:#4285F4\">140 frames per second (FPS)</span>! By contrast, <span style=\"color:#4285F4\">YOLOv4</span> achieved <span style=\"color:#4285F4\">50 FPS</span> after having been converted to the same Ultralytics PyTorch library.</font>\n",
    "\n",
    "> <font size=\"3\">**High in accuracy**</font>\n",
    ">> <font size=\"3\"><span style=\"color:#4285F4\">YOLOv5</span> is accurate. In our tests on the blood cell count and detection (BCCD) dataset, we achieved roughly <span style=\"color:#4285F4\">0.895 mean average precision (mAP)</span> after training for just 100 epochs. Admittedly, we saw comparable performance from <span style=\"color:#4285F4\">EfficientDet</span> and <span style=\"color:#4285F4\">YOLOv4</span>, but it is rare to see such across-the-board performance improvements without any loss in accuracy.</font>\n",
    "\n",
    "> <font size=\"3\">**Light in size**</font>\n",
    ">> <font size=\"3\"><span style=\"color:#4285F4\">YOLOv5</span> is small. Specifically, a weights file for <span style=\"color:#4285F4\">YOLOv5</span> is <span style=\"color:#4285F4\">27 megabytes</span>. Our weights file for <span style=\"color:#4285F4\">YOLOv4</span> (with Darknet architecture) is <span style=\"color:#4285F4\">244 megabytes</span>. <span style=\"color:#4285F4\">YOLOv5</span> is nearly 90 percent smaller than <span style=\"color:#4285F4\">YOLOv4</span>. This means <span style=\"color:#4285F4\">YOLOv5</span> can be deployed to embedded devices much more easily.</font>\n",
    "\n",
    "<img src=\"https://firebasestorage.googleapis.com/v0/b/yolo-tutorial.appspot.com/o/1.png?alt=media&token=268dedf2-049b-4a09-a569-57225ebc609f\" width=\"700\" align=\"center\"/>\n",
    "\n",
    "Reference: https://blog.roboflow.com/yolov5-is-here/"
   ]
  },
  {
   "cell_type": "markdown",
   "metadata": {},
   "source": [
    "## 2. Get started with YOLOv5"
   ]
  },
  {
   "cell_type": "markdown",
   "metadata": {},
   "source": [
    "<img src=\"https://firebasestorage.googleapis.com/v0/b/yolo-tutorial.appspot.com/o/2.png?alt=media&token=a1762894-d4ba-4588-aa0e-a05bd2e6364b\" width=\"200\" height=\"200\" align=\"right\"/>"
   ]
  },
  {
   "cell_type": "markdown",
   "metadata": {},
   "source": [
    "### <font color='#176BEF'> Installing CUDA </font>\n",
    "<hr style=\"border:2px solid #E1F6FF\"> </hr>"
   ]
  },
  {
   "cell_type": "markdown",
   "metadata": {},
   "source": [
    "<font size=\"3\">**<span style=\"color:#4285F4\">CUDA</span> is a parallel computing platform and programming model that makes using a GPU for general purpose computing simple and elegant. It allows the developer express massive amounts of parallelism and direct the compiler to the portion of the application that maps to the GPU.**</font>\n",
    "\n",
    "<font size=\"3\">**In a nutshell, <span style=\"color:#4285F4\">CUDA</span> enables GPU computing.**</font>\n",
    "\n",
    "<font size=\"3\">**Since <span style=\"color:#4285F4\">YOLOv5</span> is implemented under <span style=\"color:#4285F4\">PyTorch</span>, it supports either CPU or GPU.**</font>\n",
    "\n",
    "Reference: https://blogs.nvidia.com/blog/2012/09/10/what-is-cuda-2/"
   ]
  },
  {
   "cell_type": "markdown",
   "metadata": {},
   "source": [
    "### <font color='#34A853'> Steps  </font>\n",
    "<hr style=\"border:2px solid #34A853\"> </hr>"
   ]
  },
  {
   "cell_type": "markdown",
   "metadata": {},
   "source": [
    "<font size=\"3\">**1. Head over to <span style=\"color:#4285F4\">[Nvidia CUDA Toolkit](https://developer.nvidia.com/cuda-downloads)</span> to download the latest version; OR <span style=\"color:#4285F4\">[Nvidia CUDA Toolkit Archive](https://developer.nvidia.com/cuda-toolkit-archive)</span> to download previous release**</font>"
   ]
  },
  {
   "cell_type": "markdown",
   "metadata": {},
   "source": [
    "<font size=\"3\">**2. Select the options that fit your machine**</font>\n",
    "\n",
    "<img src=\"https://firebasestorage.googleapis.com/v0/b/yolo-tutorial.appspot.com/o/3.png?alt=media&token=8c2307d9-59fc-47a6-bfc8-bd4d751c89a5\" width=\"1000\" align=\"center\"/>"
   ]
  },
  {
   "cell_type": "markdown",
   "metadata": {},
   "source": [
    "<font size=\"3\">**3. Download and install**</font>\n",
    "<hr style=\"border:2px solid #34A853\"> </hr>"
   ]
  },
  {
   "cell_type": "markdown",
   "metadata": {},
   "source": [
    "<img src=\"https://firebasestorage.googleapis.com/v0/b/yolo-tutorial.appspot.com/o/4.png?alt=media&token=985265a2-c3e3-4aab-ae95-b1aec02bfe5b\" width=\"200\" height=\"200\" align=\"right\"/>"
   ]
  },
  {
   "cell_type": "markdown",
   "metadata": {},
   "source": [
    "### <font color='#176BEF'> Installing PyTorch </font>\n",
    "<hr style=\"border:2px solid #E1F6FF\"> </hr>"
   ]
  },
  {
   "cell_type": "markdown",
   "metadata": {},
   "source": [
    "<font size=\"3\">**<span style=\"color:#4285F4\">PyTorch</span> is an open source machine learning library that specializes in tensor computations, automatic differentiation, and GPU acceleration. For those reasons, <span style=\"color:#4285F4\">PyTorch</span> is one of the most popular deep learning libraries.**</font>\n",
    "\n",
    "<font size=\"3\">**To enable the GPU computing, <span style=\"color:#4285F4\">PyTorch</span> needs to be aligned with the <span style=\"color:#4285F4\">CUDA</span> and setup correctly.**</font>"
   ]
  },
  {
   "cell_type": "markdown",
   "metadata": {},
   "source": [
    "### <font color='#34A853'> Steps  </font>\n",
    "<hr style=\"border:2px solid #34A853\"> </hr>"
   ]
  },
  {
   "cell_type": "markdown",
   "metadata": {},
   "source": [
    "<font size=\"3\">**1. Head over to <span style=\"color:#4285F4\">[PyTorch](https://pytorch.org/)</span> to download the latest version; OR <span style=\"color:#4285F4\">[Previous versions of PyTorch](https://pytorch.org/get-started/previous-versions/)</span> to download previous release**</font>"
   ]
  },
  {
   "cell_type": "markdown",
   "metadata": {},
   "source": [
    "<font size=\"3\">**2. Select the options that apply to you**</font>\n",
    "\n",
    "<img src=\"https://firebasestorage.googleapis.com/v0/b/yolo-tutorial.appspot.com/o/5.png?alt=media&token=a6b7e125-32aa-4170-9a1c-5cabddd2de00\" width=\"1000\" align=\"center\"/>"
   ]
  },
  {
   "cell_type": "markdown",
   "metadata": {},
   "source": [
    "<font size=\"3\">**3. Copy the <span style=\"color:#4285F4\">Run this Command</span> and install under your integrated development environment (IDE)**</font>\n",
    "<hr style=\"border:2px solid #34A853\"> </hr>"
   ]
  },
  {
   "cell_type": "markdown",
   "metadata": {},
   "source": [
    "<font size=\"5\"><span style=\"background-color:#EA4335; color:white\">&nbsp;!&nbsp;</span></font>\n",
    "<font size=\"3\">**It is recommended to create a <span style=\"color:#4285F4\">new environment</span> and use <span style=\"color:#4285F4\">Conda</span> for installation.**</font>\n",
    "\n",
    "<font size=\"3\">**As an example:**</font>\n",
    "\n",
    "<font size=\"3\">**1. Open an <span style=\"color:#4285F4\">Anaconda Prompt</span>**</font>\n",
    "    \n",
    "<img src=\"https://firebasestorage.googleapis.com/v0/b/yolo-tutorial.appspot.com/o/7.png?alt=media&token=fc6d33a1-6c36-4b71-a835-328183eeada9\" width=\"250\" align=\"left\"/>\n"
   ]
  },
  {
   "cell_type": "markdown",
   "metadata": {},
   "source": [
    "<font size=\"3\">**2. Create a new environment**</font>\n",
    "> <font size=\"3\">**<span style=\"color:#4285F4\">conda create --name yolov5 </span>**</font>\n",
    "\n",
    "<font size=\"3\">**3. Activate the new environment**</font>\n",
    "> <font size=\"3\">**<span style=\"color:#4285F4\">activate yolov5</span>**</font>\n",
    "\n",
    "<font size=\"3\">**4. Install PyTorch under the new environment**</font>\n",
    "> <font size=\"3\">**<span style=\"color:#4285F4\">conda install pytorch torchvision torchaudio cudatoolkit=11.3 -c pytorch </span>**</font>\n",
    "\n",
    "<img src=\"https://firebasestorage.googleapis.com/v0/b/yolo-tutorial.appspot.com/o/6.png?alt=media&token=318d195d-4c95-4518-86cb-9e12af2ed90d\" width=\"1000\" align=\"center\"/>\n",
    "\n",
    "<hr style=\"border:2px solid #34A853\"> </hr>"
   ]
  },
  {
   "cell_type": "markdown",
   "metadata": {},
   "source": [
    "### <font color='#176BEF'> Installing YOLOv5 </font>\n",
    "<hr style=\"border:2px solid #E1F6FF\"> </hr>"
   ]
  },
  {
   "cell_type": "markdown",
   "metadata": {},
   "source": [
    "<img src=\"https://firebasestorage.googleapis.com/v0/b/yolo-tutorial.appspot.com/o/8.png?alt=media&token=192b7051-9146-4862-a8ed-7c6353270fda\" width=\"200\" height=\"200\" align=\"right\"/>"
   ]
  },
  {
   "cell_type": "markdown",
   "metadata": {},
   "source": [
    "### <font color='#34A853'> Steps  </font>\n",
    "<hr style=\"border:2px solid #34A853\"> </hr>"
   ]
  },
  {
   "cell_type": "markdown",
   "metadata": {},
   "source": [
    "<font size=\"3\">**1. Head over to <span style=\"color:#4285F4\">[Github](https://github.com/ultralytics/yolov5)</span> to download the latest version**</font>"
   ]
  },
  {
   "cell_type": "markdown",
   "metadata": {},
   "source": [
    "<font size=\"3\">**2. Click on the <span style=\"color:#4285F4\">Code</span> and then <span style=\"color:#4285F4\">Download</span>**</font>\n",
    "\n",
    "<img src=\"https://firebasestorage.googleapis.com/v0/b/yolo-tutorial.appspot.com/o/9.png?alt=media&token=49e8e07b-d259-4367-baf4-8a1b431e8ab0\" width=\"1000\" align=\"center\"/>"
   ]
  },
  {
   "cell_type": "markdown",
   "metadata": {},
   "source": [
    "<font size=\"3\">**3. Extract it to the location that you want to execute it**</font>\n",
    "\n",
    "<font size=\"3\">**4. Install required modules under the YOLO path**</font>"
   ]
  },
  {
   "cell_type": "markdown",
   "metadata": {},
   "source": [
    "<hr style=\"border:2px solid #34A853\"> </hr>"
   ]
  },
  {
   "cell_type": "markdown",
   "metadata": {},
   "source": [
    "<font size=\"3\">**As an example:**</font>\n",
    "\n",
    "<font size=\"3\">**1. Open an <span style=\"color:#4285F4\">Anaconda Prompt</span>**</font>\n",
    "    \n",
    "<img src=\"https://firebasestorage.googleapis.com/v0/b/yolo-tutorial.appspot.com/o/7.png?alt=media&token=fc6d33a1-6c36-4b71-a835-328183eeada9\" width=\"250\" align=\"left\"/>"
   ]
  },
  {
   "cell_type": "markdown",
   "metadata": {},
   "source": [
    "\n",
    "<font size=\"3\">**2. Activate the YOLO environment**</font>\n",
    "> <font size=\"3\">**<span style=\"color:#4285F4\">activate yolov5</span>**</font>\n",
    "\n",
    "<font size=\"3\">**3. Go to the YOLO folder**</font>\n",
    "\n",
    "<font size=\"3\">**4. Install the required modules**</font>\n",
    "> <font size=\"3\">**<span style=\"color:#4285F4\">pip install -r requirements.txt</span>**</font>\n",
    "\n",
    "<img src=\"https://firebasestorage.googleapis.com/v0/b/yolo-tutorial.appspot.com/o/10.png?alt=media&token=50826f80-6712-4a06-93b6-e6cdedb4249f\" width=\"800\" align=\"center\"/>\n",
    "\n",
    "<hr style=\"border:2px solid #34A853\"> </hr>"
   ]
  },
  {
   "cell_type": "markdown",
   "metadata": {},
   "source": [
    "## 3. Real Time Object Detection (Image, Webcam, Video files) with YOLOv5"
   ]
  },
  {
   "cell_type": "markdown",
   "metadata": {},
   "source": [
    "### <font color='#176BEF'> Inference with detect.py </font>\n",
    "<hr style=\"border:2px solid #E1F6FF\"> </hr>\n"
   ]
  },
  {
   "cell_type": "markdown",
   "metadata": {},
   "source": [
    "<font size=\"3\">**<span style=\"background-color: #ECECEC; color:#0047bb\">detect.py</span> runs inference on a variety of sources and saving results to runs/detect.**</font>\n",
    "\n",
    "<font size=\"3\">**These sources include:**</font>\n",
    "\n",
    "> <font size=\"3\">**Image**</font><br>\n",
    "> <font size=\"3\"></font><br>\n",
    "> <font size=\"3\">**Webcam**</font><br>\n",
    "> <font size=\"3\"></font><br>\n",
    "> <font size=\"3\">**Video**</font><br>\n",
    "> <font size=\"3\"></font><br>\n",
    "> <font size=\"3\">**Directory**</font><br>\n",
    "> <font size=\"3\"></font><br>\n",
    "> <font size=\"3\">**YouTube**</font><br>\n",
    "> <font size=\"3\"></font><br>\n",
    "> <font size=\"3\">**RTSP, RTMP, HTTP steam**</font><br>"
   ]
  },
  {
   "cell_type": "markdown",
   "metadata": {},
   "source": [
    "### <font color='#34A853'> Steps  </font>\n",
    "<hr style=\"border:2px solid #34A853\"> </hr>"
   ]
  },
  {
   "cell_type": "markdown",
   "metadata": {},
   "source": [
    "<font size=\"3\">**1. Open a Console and locate the YOLOv5 folder**</font>"
   ]
  },
  {
   "cell_type": "markdown",
   "metadata": {},
   "source": [
    "<font size=\"3\">**2. Type the following code**</font>"
   ]
  },
  {
   "cell_type": "markdown",
   "metadata": {},
   "source": [
    "<font size=\"3\">***Image***</font>\n",
    "\n",
    "><font size=\"3\">**<span style=\"background-color: #ECECEC; color:#0047bb\">python detect.py --source img.jpg</span>**</font>"
   ]
  },
  {
   "cell_type": "markdown",
   "metadata": {},
   "source": [
    "<font size=\"3\">***Webcam***</font>\n",
    "\n",
    "><font size=\"3\">**<span style=\"background-color: #ECECEC; color:#0047bb\">python detect.py --source 0</span>**</font>"
   ]
  },
  {
   "cell_type": "markdown",
   "metadata": {},
   "source": [
    "<font size=\"3\">***Video***</font>\n",
    "\n",
    "><font size=\"3\">**<span style=\"background-color: #ECECEC; color:#0047bb\">python detect.py --source vid.mp4</span>**</font>"
   ]
  },
  {
   "cell_type": "markdown",
   "metadata": {},
   "source": [
    "<font size=\"3\">***Directory***</font>\n",
    "\n",
    "><font size=\"3\">**<span style=\"background-color: #ECECEC; color:#0047bb\">python detect.py --source path/</span>**</font>\n",
    "\n",
    "><font size=\"3\">**<span style=\"background-color: #ECECEC; color:#0047bb\">python detect.py --source path/*.jpg</span>**</font>"
   ]
  },
  {
   "cell_type": "markdown",
   "metadata": {},
   "source": [
    "<font size=\"3\">***YouTube***</font>\n",
    "\n",
    "><font size=\"3\">**<span style=\"background-color: #ECECEC; color:#0047bb\">python detect.py --source https://youtu.be/Zgi9g1ksQHc</span>**</font>"
   ]
  },
  {
   "cell_type": "markdown",
   "metadata": {},
   "source": [
    "<font size=\"3\">***RTSP, RTMP, HTTP stream***</font>\n",
    "\n",
    "><font size=\"3\">**<span style=\"background-color: #ECECEC; color:#0047bb\">python detect.py --source rtsp://example.com/media.mp4</span>**</font>"
   ]
  },
  {
   "cell_type": "markdown",
   "metadata": {},
   "source": [
    "<hr style=\"border:2px solid #34A853\"> </hr>"
   ]
  },
  {
   "cell_type": "markdown",
   "metadata": {},
   "source": [
    "<font size=\"3\">**As an example:**</font>\n",
    "\n",
    "<font size=\"3\">**1. Open an <span style=\"color:#4285F4\">Anaconda Prompt</span>**</font>\n",
    "    \n",
    "<img src=\"https://firebasestorage.googleapis.com/v0/b/yolo-tutorial.appspot.com/o/7.png?alt=media&token=fc6d33a1-6c36-4b71-a835-328183eeada9\" width=\"250\" align=\"left\"/>"
   ]
  },
  {
   "cell_type": "markdown",
   "metadata": {},
   "source": [
    "<font size=\"3\">**2. Activate the YOLO environment**</font>\n",
    "> <font size=\"3\">**<span style=\"color:#4285F4\">activate yolov5</span>**</font>\n",
    "\n",
    "<font size=\"3\">**3. Go to the YOLO folder**</font>\n",
    "\n",
    "<font size=\"3\">**4. Type the following code:**</font>\n",
    "> <font size=\"3\">**<span style=\"color:#4285F4\">python detect.py --source https://www.youtube.com/watch?v=WInT7NRq2Ss</span>**</font>\n",
    "\n",
    "<img src=\"https://firebasestorage.googleapis.com/v0/b/yolo-tutorial.appspot.com/o/11.png?alt=media&token=b2743cbd-373e-4323-9c87-6f4c39b41ee1\" width=\"800\" align=\"center\"/>"
   ]
  },
  {
   "cell_type": "markdown",
   "metadata": {},
   "source": [
    "<font size=\"3\">**Remarks:**</font>\n",
    "<font size=\"3\">**To run a youtube file, you need to install the following modules:**</font>\n",
    "\n",
    "><font size=\"3\">**pip install pafy**</font> <br>\n",
    "><font size=\"3\"></font> <br>\n",
    "><font size=\"3\">**pip install youtube_dl**</font>"
   ]
  },
  {
   "cell_type": "markdown",
   "metadata": {},
   "source": [
    "<font size=\"3\">**🌟🚀 <span style=\"color:#4285F4\">RESULTS</span> 🚀🌟**</font>"
   ]
  },
  {
   "cell_type": "markdown",
   "metadata": {},
   "source": [
    "<table align=\"left\">\n",
    "    <tr>\n",
    "        <td><img src=\"https://firebasestorage.googleapis.com/v0/b/yolo-tutorial.appspot.com/o/Yolov5-1.gif?alt=media&token=3ee8fe7e-7401-4718-84ae-cecb1d1a33c9\" width=\"720\"/></td>\n",
    "        <td><img src=\"https://firebasestorage.googleapis.com/v0/b/yolo-tutorial.appspot.com/o/Yolov5-2.gif?alt=media&token=288f5ec5-1e31-473e-bb05-2eb5589736e3\" width=\"720\"/></td>\n",
    "    </tr>\n",
    "</table>\n",
    "<br>\n",
    "<br>\n",
    "<br>"
   ]
  },
  {
   "cell_type": "markdown",
   "metadata": {},
   "source": [
    "<hr style=\"border:2px solid #34A853\"> </hr>"
   ]
  },
  {
   "cell_type": "markdown",
   "metadata": {},
   "source": [
    "<font size=\"3\">**Credit to:**</font>"
   ]
  },
  {
   "cell_type": "markdown",
   "metadata": {},
   "source": [
    "<img src=\"https://firebasestorage.googleapis.com/v0/b/yolo-tutorial.appspot.com/o/12.png?alt=media&token=f8292f39-b253-4867-ad1e-fc37b20f858b\" width=\"400\" align=\"left\"/>"
   ]
  },
  {
   "cell_type": "code",
   "execution_count": null,
   "metadata": {},
   "outputs": [],
   "source": []
  }
 ],
 "metadata": {
  "kernelspec": {
   "display_name": "Python 3 (ipykernel)",
   "language": "python",
   "name": "python3"
  },
  "language_info": {
   "codemirror_mode": {
    "name": "ipython",
    "version": 3
   },
   "file_extension": ".py",
   "mimetype": "text/x-python",
   "name": "python",
   "nbconvert_exporter": "python",
   "pygments_lexer": "ipython3",
   "version": "3.8.8"
  }
 },
 "nbformat": 4,
 "nbformat_minor": 2
}
