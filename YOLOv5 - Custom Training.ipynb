{
 "cells": [
  {
   "cell_type": "markdown",
   "metadata": {},
   "source": [
    "<img src=\"https://firebasestorage.googleapis.com/v0/b/deep-learning-crash-course.appspot.com/o/Logo.png?alt=media&token=06318ee3-d7a0-44a0-97ae-2c95f110e3ac\" width=\"100\" height=\"100\" align=\"right\"/>"
   ]
  },
  {
   "cell_type": "markdown",
   "metadata": {},
   "source": [
    "# YOLOv5 - Custom Training (Step-By-Step Tutorial)"
   ]
  },
  {
   "cell_type": "markdown",
   "metadata": {},
   "source": [
    "<table align=\"left\">\n",
    "    <tr>\n",
    "        <td style=\"text-align:center\"><b>Original Video</b></td>\n",
    "        <td style=\"text-align:center\"><b>License Plate Detection</b></td>\n",
    "    </tr>\n",
    "    <tr>\n",
    "        <td><img src=\"https://firebasestorage.googleapis.com/v0/b/yolo-tutorial.appspot.com/o/Gif%20no%20detection.gif?alt=media&token=a536aef9-725d-4ff7-ab99-2f2d64a5e045\" width=\"550\"/></td>\n",
    "        <td><img src=\"https://firebasestorage.googleapis.com/v0/b/yolo-tutorial.appspot.com/o/Gif%20with%20detection.gif?alt=media&token=f240cc66-a59f-4479-88ec-b9db1fc21ef7\" width=\"550\"/></td>\n",
    "    </tr>\n",
    "</table>\n",
    "<br>\n",
    "<br>\n",
    "<br>\n"
   ]
  },
  {
   "cell_type": "markdown",
   "metadata": {},
   "source": [
    "## 1. Introduction"
   ]
  },
  {
   "cell_type": "markdown",
   "metadata": {},
   "source": [
    "### <font color='Orange'> Objectives </font>\n",
    "📚 <font size=\"3\">**In this tutorial, you will learn how to train your own <span style=\"color:#4285F4\">custom dataset</span> with <span style=\"color:#4285F4\">YOLOv5</span>.**</font>\n",
    "\n",
    "<font size=\"3\">**There are two ways to setup:**</font>\n",
    "\n",
    "> <font size=\"3\">**Google Colab**</font><br>\n",
    "> <font size=\"3\"></font><br>\n",
    "> <font size=\"3\">**Local machines**</font><br>"
   ]
  },
  {
   "cell_type": "markdown",
   "metadata": {},
   "source": [
    "## 2. Create Dataset"
   ]
  },
  {
   "cell_type": "markdown",
   "metadata": {},
   "source": [
    "<font size=\"3\">**In order to train your own <span style=\"color:#4285F4\">custom model</span>, you need to assemble a dataset of <span style=\"color:#4285F4\">representative images</span>**</font>  \n",
    "\n",
    "><font size=\"3\">**with <span style=\"color:#4285F4\">bounding box annotations</span> around the objects and <span style=\"color:#4285F4\">labels</span> that you want to detect**</font>\n",
    "\n",
    "><font size=\"3\">**in <span style=\"color:#4285F4\">YOLOv5 format</span>**</font>\n",
    "\n",
    "<font size=\"3\">**There are many options for creating your dataset before you start training. But for the sake of simplicity, <span style=\"color:#4285F4\">Roboflow</span> is used in this tutorial to label, prepare, and host your custom data.**</font>"
   ]
  },
  {
   "cell_type": "markdown",
   "metadata": {},
   "source": [
    "### 2.1 Collect Images"
   ]
  },
  {
   "cell_type": "markdown",
   "metadata": {},
   "source": [
    "<font size=\"3\">**Your model will learn by example. Training on images similar to the ones it will predict is of the utmost importance. Ideally, you will collect a wide variety of images with highly similar configuration (camera, angle, lighting, etc) as you will ultimately deploy your project.**</font>\n",
    "\n"
   ]
  },
  {
   "cell_type": "markdown",
   "metadata": {},
   "source": [
    "\n",
    "<font size=\"5\"><span style=\"background-color:#EA4335; color:white\">&nbsp;!&nbsp;</span></font>\n",
    "<font size=\"3\">**Because we apply transfer learning from <span style=\"color:#4285F4\">YOLOv5</span> and are not building the model from the ground up, <span style=\"color:#4285F4\">200-400 images per class</span> would be a good starting point to train your initial model.**</font>"
   ]
  },
  {
   "cell_type": "markdown",
   "metadata": {},
   "source": [
    "### <font color='#34A853'> Example </font>\n",
    "<hr style=\"border:2px solid #34A853\"> </hr>"
   ]
  },
  {
   "cell_type": "markdown",
   "metadata": {},
   "source": [
    "<font size=\"3\">**As an example - Start from a public dataset:**</font>\n",
    "\n",
    "<font size=\"3\">**1. Open a <span style=\"color:#4285F4\">Google Chrome Browser</span>**</font>\n",
    "\n",
    "<font size=\"3\">**2. Search <span style=\"color:#4285F4\">images</span> and download**</font>\n",
    "    \n",
    "<img src=\"https://firebasestorage.googleapis.com/v0/b/yolo-tutorial.appspot.com/o/16.png?alt=media&token=c0c3172b-8e5f-4397-b2ee-5b19aae7c903\" width=\"800\" align=\"center\"/>"
   ]
  },
  {
   "cell_type": "markdown",
   "metadata": {},
   "source": [
    "<font size=\"3\">**3. Use extension <span style=\"color:#4285F4\">Download All Images</span> to download all images in active tab as <span style=\"color:#4285F4\">.zip file</span>**</font>\n",
    "    \n",
    "<img src=\"https://firebasestorage.googleapis.com/v0/b/yolo-tutorial.appspot.com/o/15.png?alt=media&token=1055c5b7-80d9-4014-8909-e5df541e3d7e\" width=\"400\" align=\"center\"/>"
   ]
  },
  {
   "cell_type": "markdown",
   "metadata": {},
   "source": [
    "<hr style=\"border:2px solid #34A853\"> </hr>"
   ]
  },
  {
   "cell_type": "markdown",
   "metadata": {},
   "source": [
    "### 2.2 Create Labels"
   ]
  },
  {
   "cell_type": "markdown",
   "metadata": {},
   "source": [
    "<font size=\"3\">**Once you have collected images, you will need to prepare the image dataset by**</font> \n",
    "    \n",
    "><font size=\"3\">**<span style=\"color:#4285F4\">annotating the objects</span>**</font>\n",
    "\n",
    "><font size=\"3\">**<span style=\"color:#4285F4\">labeling the objects</span>**</font>\n",
    "\n",
    "<font size=\"3\">**<span style=\"color:#4285F4\">[Roboflow Annotate](https://roboflow.com/annotate?ref=ultralytics)</span> is used in this tutorial, which is a simple <span style=\"color:#4285F4\">web-based tool</span> for managing, annotating and labeling your images and exporting them in <span style=\"color:#4285F4\">YOLOv5</span>'s annotation format.**</font> "
   ]
  },
  {
   "cell_type": "markdown",
   "metadata": {},
   "source": [
    "### <font color='#34A853'> Example </font>\n",
    "<hr style=\"border:2px solid #34A853\"> </hr>"
   ]
  },
  {
   "cell_type": "markdown",
   "metadata": {},
   "source": [
    "<img src=\"https://firebasestorage.googleapis.com/v0/b/yolo-tutorial.appspot.com/o/14.png?alt=media&token=01129b80-4b71-4bcd-92c6-d03209b64142\" width=\"70\" height=\"70\" align=\"right\"/>"
   ]
  },
  {
   "cell_type": "markdown",
   "metadata": {},
   "source": [
    "<font size=\"3\">**As an example - Prepare Dataset for YOLOv5:**</font>\n",
    "\n",
    "<font size=\"3\">**1. Create a free <span style=\"color:#4285F4\">[Roboflow account](https://app.roboflow.com/login)</span>**</font>\n",
    "\n",
    "<img src=\"https://firebasestorage.googleapis.com/v0/b/yolo-tutorial.appspot.com/o/18.png?alt=media&token=9a17fd32-0a7c-4d82-a277-27eefcfcecb9\" width=\"600\" align=\"center\"/>"
   ]
  },
  {
   "cell_type": "markdown",
   "metadata": {},
   "source": [
    "<font size=\"3\">**2. Open the <span style=\"color:#4285F4\">[YOLOv5 Custom Training Notebook](https://colab.research.google.com/github/roboflow-ai/yolov5-custom-training-tutorial/blob/main/yolov5-custom-training.ipynb)</span>**</font>\n",
    "   \n",
    "<font size=\"3\">**3. Go to File and <span style=\"color:#4285F4\">Save a copy in Drive</span> under your own google drive**</font>\n",
    "    \n",
    "<img src=\"https://firebasestorage.googleapis.com/v0/b/yolo-tutorial.appspot.com/o/17.png?alt=media&token=306cca67-5bf6-4d0d-8645-3ec0d1a5d822\" width=\"600\" align=\"center\"/>\n"
   ]
  },
  {
   "cell_type": "markdown",
   "metadata": {},
   "source": [
    "<font size=\"5\"><span style=\"background-color:#EA4335; color:white\">&nbsp;!&nbsp;</span></font>\n",
    "<font size=\"3\">**The file will be saved in the Colab Notebooks under your own google.**</font>\n",
    "\n",
    "<img src=\"https://firebasestorage.googleapis.com/v0/b/yolo-tutorial.appspot.com/o/20.png?alt=media&token=5b4b93d9-789d-4966-a972-ceca4685cc7d\" width=\"600\" align=\"center\"/>"
   ]
  },
  {
   "cell_type": "markdown",
   "metadata": {},
   "source": [
    "<font size=\"3\">**4. Install Requirements**</font>\n",
    "\n",
    "><font size=\"3\">**Clone <span style=\"color:#4285F4\"> YOLOv5 repo</span>**</font>\n",
    "\n",
    "><font size=\"3\">**Install <span style=\"color:#4285F4\">requirements</span> and <span style=\"color:#4285F4\">roboflow</span>**</font>\n",
    "\n",
    "<img src=\"https://firebasestorage.googleapis.com/v0/b/yolo-tutorial.appspot.com/o/19.png?alt=media&token=1b6ebc4f-a1de-4a61-8c77-61b0822955e2\" width=\"800\" align=\"center\"/>\n"
   ]
  },
  {
   "cell_type": "markdown",
   "metadata": {},
   "source": [
    "<font size=\"3\">**5. Assemble the dataset**</font>\n",
    "\n",
    "><font size=\"3\">**a. Import <span style=\"color:#4285F4\"> Roboflow</span> and click the <span style=\"color:#4285F4\">API Key link</span>**</font>\n",
    "\n",
    "\n",
    "<img src=\"https://firebasestorage.googleapis.com/v0/b/yolo-tutorial.appspot.com/o/21.png?alt=media&token=a828a6e2-9dff-489e-9e71-2797093fd5e1\" width=\"800\" align=\"center\"/>"
   ]
  },
  {
   "attachments": {},
   "cell_type": "markdown",
   "metadata": {},
   "source": [
    "><font size=\"3\">**b. Click <span style=\"color:#4285F4\">Continue</span>**</font>\n",
    "\n",
    "<img src=\"https://firebasestorage.googleapis.com/v0/b/yolo-tutorial.appspot.com/o/22.png?alt=media&token=db7a5302-e5c4-4082-af81-e36f0b38060b\" width=\"800\" align=\"center\"/>\n",
    "\n"
   ]
  },
  {
   "cell_type": "markdown",
   "metadata": {},
   "source": [
    "><font size=\"3\">**c. Create a <span style=\"color:#4285F4\">New Project</span> or Load an <span style=\"color:#4285F4\">Existing Project</span>**</font>\n",
    "\n",
    "<img src=\"https://firebasestorage.googleapis.com/v0/b/yolo-tutorial.appspot.com/o/23.png?alt=media&token=10716b90-f842-4484-8404-b252f8950aa7\" width=\"800\" align=\"center\"/>\n",
    "\n"
   ]
  },
  {
   "cell_type": "markdown",
   "metadata": {},
   "source": [
    "><font size=\"3\">**d. Fill in <span style=\"color:#4285F4\">Project Name</span> and <span style=\"color:#4285F4\">Annotation Group</span>**</font>\n",
    "\n",
    "<img src=\"https://firebasestorage.googleapis.com/v0/b/yolo-tutorial.appspot.com/o/24.png?alt=media&token=867b6183-6a46-47ea-9d5c-93d2697e8502\" width=\"800\" align=\"center\"/>"
   ]
  },
  {
   "cell_type": "markdown",
   "metadata": {},
   "source": [
    "><font size=\"3\">**e. Upload <span style=\"color:#4285F4\">images</span>**</font>\n",
    "\n",
    "<img src=\"https://firebasestorage.googleapis.com/v0/b/yolo-tutorial.appspot.com/o/25.png?alt=media&token=059d4877-b1e7-46f3-8f81-c8b19ae08353\" width=\"800\" align=\"center\"/>"
   ]
  },
  {
   "cell_type": "markdown",
   "metadata": {},
   "source": [
    "><font size=\"3\">**f. Split <span style=\"color:#4285F4\">images</span> to fit your needs based on different options**</font>\n",
    "\n",
    "<img src=\"https://firebasestorage.googleapis.com/v0/b/yolo-tutorial.appspot.com/o/26.png?alt=media&token=454fc529-f152-43a7-bd02-b1203f2b2574\" width=\"800\" align=\"center\"/>"
   ]
  },
  {
   "attachments": {},
   "cell_type": "markdown",
   "metadata": {},
   "source": [
    "<font size=\"5\"><span style=\"background-color:#EA4335; color:white\">&nbsp;!&nbsp;</span></font>\n",
    "<font size=\"3\">**The default ratio for train/valid/test is a good starting point.**</font>\n",
    "\n",
    "<img src=\"https://firebasestorage.googleapis.com/v0/b/yolo-tutorial.appspot.com/o/27.png?alt=media&token=8d1b5d93-472d-448c-b64c-d774ff69a9ba\" width=\"350\" align=\"center\"/>"
   ]
  },
  {
   "cell_type": "markdown",
   "metadata": {},
   "source": [
    "><font size=\"3\">**g. Click on the first image to start <span style=\"color:#4285F4\">annotating the images</span>**</font>\n",
    "\n",
    "<img src=\"https://firebasestorage.googleapis.com/v0/b/yolo-tutorial.appspot.com/o/yolo1.gif?alt=media&token=720c4701-c712-411c-9bfe-00c09208f794\" width=\"500\" align=\"center\"/>\n"
   ]
  },
  {
   "cell_type": "markdown",
   "metadata": {},
   "source": [
    "><font size=\"3\">**h. <span style=\"color:#4285F4\">Generate New Version</span> of your dataset and train a model**</font>\n",
    "\n",
    "<img src=\"https://firebasestorage.googleapis.com/v0/b/yolo-tutorial.appspot.com/o/28.png?alt=media&token=9d03b8aa-751f-4163-a3e1-b423f783f50f\" width=\"800\" align=\"center\"/>\n"
   ]
  },
  {
   "cell_type": "markdown",
   "metadata": {},
   "source": [
    "><font size=\"3\">**i. Check if**</font><br>\n",
    ">><font size=\"3\">**the dataset is correct**</font><br>\n",
    ">><font size=\"3\"></font><br>\n",
    ">><font size=\"3\">**the training/validation/testing dataset need to rebalance**</font>\n",
    "\n",
    "<img src=\"https://firebasestorage.googleapis.com/v0/b/yolo-tutorial.appspot.com/o/29.png?alt=media&token=dfcfe456-e752-4d87-8927-9445a40263fa\" width=\"500\" align=\"center\"/>\n",
    "\n",
    "<img src=\"https://firebasestorage.googleapis.com/v0/b/yolo-tutorial.appspot.com/o/30.png?alt=media&token=59150f32-00f0-4e74-9742-6c2c7584354f\" width=\"500\" align=\"center\"/>\n"
   ]
  },
  {
   "cell_type": "markdown",
   "metadata": {},
   "source": [
    "><font size=\"3\">**j. Check if the the preprocessing fits your needs**</font>\n",
    "\n",
    "<img src=\"https://firebasestorage.googleapis.com/v0/b/yolo-tutorial.appspot.com/o/31.png?alt=media&token=e0ca91a3-daac-4d4e-ae75-6f2285493948\" width=\"500\" align=\"center\"/>\n",
    "\n"
   ]
  },
  {
   "cell_type": "markdown",
   "metadata": {},
   "source": [
    "><font size=\"3\">**k. Turn off the augmentation and <span style=\"color:#4285F4\">Generate New Version</span>**</font>\n",
    "\n",
    "<img src=\"https://firebasestorage.googleapis.com/v0/b/yolo-tutorial.appspot.com/o/32.png?alt=media&token=e2236407-9e5d-4374-b168-b5b2217b64a3\" width=\"500\" align=\"center\"/>"
   ]
  },
  {
   "cell_type": "markdown",
   "metadata": {},
   "source": [
    "><font size=\"3\">**l. This will take a moment, then <span style=\"color:#4285F4\">Save Name</span> and <span style=\"color:#4285F4\">Export</span>**</font>\n",
    "\n",
    "<img src=\"https://firebasestorage.googleapis.com/v0/b/yolo-tutorial.appspot.com/o/yolo3.gif?alt=media&token=3b63fa78-fab5-404e-ac1f-fd3a79f794bd\" width=\"500\" align=\"center\"/>"
   ]
  },
  {
   "cell_type": "markdown",
   "metadata": {},
   "source": [
    "><font size=\"3\">**m. Select <span style=\"color:#4285F4\">YOLO v5 PyTorch</span>, <span style=\"color:#4285F4\">Show Download Code</span> and <span style=\"color:#4285F4\">Continue</span>**</font>\n",
    "\n",
    "<img src=\"https://firebasestorage.googleapis.com/v0/b/yolo-tutorial.appspot.com/o/33.png?alt=media&token=a94955f3-13a5-4a1e-92a0-dd4c8317b8a7\" width=\"400\" align=\"center\"/>"
   ]
  },
  {
   "cell_type": "markdown",
   "metadata": {},
   "source": [
    "><font size=\"3\">**n. Copy the <span style=\"color:#4285F4\">code</span>**</font>\n",
    "\n",
    "<img src=\"https://firebasestorage.googleapis.com/v0/b/yolo-tutorial.appspot.com/o/34.png?alt=media&token=33b50929-56b5-48e3-a8dd-4ba54f3054ae\" width=\"400\" align=\"center\"/>"
   ]
  },
  {
   "cell_type": "markdown",
   "metadata": {},
   "source": [
    "><font size=\"3\">**o. Go back to the Colab Notebooks**</font><br>\n",
    ">><font size=\"3\">**Paste the <span style=\"color:#4285F4\">code</span> in the cell highlighted below**</font><br>\n",
    ">><font size=\"3\"></font><br>\n",
    ">><font size=\"3\">**Run the two cells**</font>\n",
    "\n",
    "<img src=\"https://firebasestorage.googleapis.com/v0/b/yolo-tutorial.appspot.com/o/35.png?alt=media&token=d8fa8113-323e-4ede-8012-06d7c9eff82b\" width=\"800\" align=\"center\"/>"
   ]
  },
  {
   "cell_type": "markdown",
   "metadata": {},
   "source": [
    "<hr style=\"border:2px solid #34A853\"> </hr>"
   ]
  },
  {
   "cell_type": "markdown",
   "metadata": {},
   "source": [
    "## 3. Train your Custom YOLOv5 model "
   ]
  },
  {
   "cell_type": "markdown",
   "metadata": {},
   "source": [
    "<font size=\"3\">**A number of arguments can be passed for custom training:**</font>\n",
    "\n",
    "<img src=\"https://firebasestorage.googleapis.com/v0/b/yolo-tutorial.appspot.com/o/37.png?alt=media&token=8fdae271-f2d1-4b6d-937e-232fa57c06d7\" width=\"800\" align=\"center\"/>\n"
   ]
  },
  {
   "cell_type": "markdown",
   "metadata": {},
   "source": [
    "### <font color='#34A853'> Example </font>\n",
    "<hr style=\"border:2px solid #34A853\"> </hr>"
   ]
  },
  {
   "cell_type": "markdown",
   "metadata": {},
   "source": [
    "<font size=\"3\">**Let's focus on few key arguments:**</font>\n",
    "\n",
    "><font size=\"3\">**img**: define input image size. This needs to align with step <span style=\"color:#4285F4\">5j</span>.</font><br>\n",
    "><font size=\"3\"></font><br>\n",
    "><font size=\"3\">**batch**: define batch size</font><br>\n",
    "><font size=\"3\"></font><br>\n",
    "><font size=\"3\">**epochs**: define the number of training epochs</font><br>\n",
    "><font size=\"3\"></font><br>\n",
    "><font size=\"3\">**data**: dataset is saved in the <span style=\"background-color: #ECECEC; color:#0047bb\">dataset.location</span></font><br>\n",
    "><font size=\"3\"></font><br>\n",
    "><font size=\"3\">**cache**: cache images for faster training</font><br>\n",
    "><font size=\"3\"></font><br>\n",
    "><font size=\"3\">**weights**: specify a path to weights for transfer learning</font><br>\n",
    "><font size=\"3\"></font><br>\n",
    ">><font size=\"3\">You can change the weight path here to continue your previous training</font><br>\n",
    "><font size=\"3\"></font><br>\n",
    ">><font size=\"3\">As an example, generic COCO pretrained checkpoint is used</font><br>\n",
    "><font size=\"3\"></font><br>"
   ]
  },
  {
   "cell_type": "markdown",
   "metadata": {},
   "source": [
    "<img src=\"https://firebasestorage.googleapis.com/v0/b/yolo-tutorial.appspot.com/o/36.png?alt=media&token=bf4a0153-f1b5-4b4e-88ba-77ca7fce5ea5\" width=\"450\" align=\"center\"/>"
   ]
  },
  {
   "cell_type": "markdown",
   "metadata": {},
   "source": [
    "<font size=\"3\">**<span style=\"color:#4285F4\">Start training</span> - with the following command**</font>\n",
    "\n",
    "<img src=\"https://firebasestorage.googleapis.com/v0/b/yolo-tutorial.appspot.com/o/38.png?alt=media&token=015e99a5-a50c-46bf-bf17-e4cdd92c7f71\" width=\"900\" align=\"center\"/>"
   ]
  },
  {
   "cell_type": "markdown",
   "metadata": {},
   "source": [
    "<img src=\"https://firebasestorage.googleapis.com/v0/b/yolo-tutorial.appspot.com/o/yolo4.gif?alt=media&token=a786134f-37f9-4249-9c2e-881c0cda44f6\" width=\"800\" align=\"center\"/>"
   ]
  },
  {
   "cell_type": "markdown",
   "metadata": {},
   "source": [
    "🌟🚀<font size=\"3\">**<span style=\"color:#4285F4\">RESULTS</span>**</font>🚀🚀🌟"
   ]
  },
  {
   "cell_type": "markdown",
   "metadata": {},
   "source": [
    "<font size=\"3\">**Two models will be saved after training:**</font>\n",
    "\n",
    "><font size=\"3\">**<span style=\"color:#4285F4\">runs/train/exp/weights/last.pt</span>** - e.g <span style=\"color:#4285F4\">mAP</span> 0.995 and 0.746</font><br>\n",
    "><font size=\"3\"></font> <br>\n",
    "><font size=\"3\">**<span style=\"color:#4285F4\">runs/train/exp/weights/best.pt</span>** - e.g <span style=\"color:#4285F4\">mAP</span> 0.995 and 0.819</font>\n",
    "\n",
    "<font size=\"3\">**Validation results will also be saved in <span style=\"color:#4285F4\">runs/train/exp</span> for further evaluation.**</font>"
   ]
  },
  {
   "cell_type": "markdown",
   "metadata": {},
   "source": [
    "<img src=\"https://firebasestorage.googleapis.com/v0/b/yolo-tutorial.appspot.com/o/39.png?alt=media&token=f61c2674-9dd7-4f6f-aadc-e1545f688dfd\" width=\"750\" align=\"center\"/>"
   ]
  },
  {
   "cell_type": "markdown",
   "metadata": {},
   "source": [
    "<hr style=\"border:2px solid #34A853\"> </hr>"
   ]
  },
  {
   "cell_type": "markdown",
   "metadata": {},
   "source": [
    "## 4. Evaluate Custom YOLOv5 Detector Performance"
   ]
  },
  {
   "cell_type": "markdown",
   "metadata": {},
   "source": [
    "<font size=\"3\">**Training losses and performance metrics are saved to <span style=\"color:#4285F4\">Tensorboard</span> and also to a <span style=\"color:#4285F4\">logfile</span>.**</font>"
   ]
  },
  {
   "cell_type": "markdown",
   "metadata": {},
   "source": [
    "### <font color='#34A853'> Example </font>\n",
    "<hr style=\"border:2px solid #34A853\"> </hr>"
   ]
  },
  {
   "cell_type": "markdown",
   "metadata": {},
   "source": [
    "<font size=\"3\">**Simply run the cell and you will see the performance during training**</font>\n",
    "\n",
    "<img src=\"https://firebasestorage.googleapis.com/v0/b/yolo-tutorial.appspot.com/o/41.png?alt=media&token=2a1040df-1a81-4b3c-b558-18ff5a2c62e7\" width=\"500\" align=\"left\"/>\n",
    "\n",
    "<img src=\"https://firebasestorage.googleapis.com/v0/b/yolo-tutorial.appspot.com/o/40.png?alt=media&token=7e9118bf-077a-455c-b52c-fe6987e585d8\" width=\"1000\" align=\"center\"/>"
   ]
  },
  {
   "cell_type": "markdown",
   "metadata": {},
   "source": [
    "<font size=\"5\"><span style=\"background-color:#EA4335; color:white\">&nbsp;!&nbsp;</span></font>\n",
    "<font size=\"3\">**Regarding the performance, the one that you want to focus on is <span style=\"color:#4285F4\">mAP_0.5</span> in your <span style=\"color:#4285F4\">validataion dataset</span>. The <span style=\"color:#4285F4\">best model</span> will be saved accordingly.**</font>"
   ]
  },
  {
   "cell_type": "markdown",
   "metadata": {},
   "source": [
    "<hr style=\"border:2px solid #34A853\"> </hr>"
   ]
  },
  {
   "cell_type": "markdown",
   "metadata": {},
   "source": [
    "## 5. Run Inference With Trained Weights"
   ]
  },
  {
   "cell_type": "markdown",
   "metadata": {},
   "source": [
    "<font size=\"3\">**You can run inference under:**</font>\n",
    "    \n",
    "><font size=\"3\">**The same <span style=\"color:#4285F4\">Colab Notebooks</span>**</font><br>\n",
    "><font size=\"3\"></font><br>\n",
    "><font size=\"3\">**Your <span style=\"color:#4285F4\">local machine</span>**</font>"
   ]
  },
  {
   "cell_type": "markdown",
   "metadata": {},
   "source": [
    "### <font color='#34A853'> Example - Colab Notebooks</font>\n",
    "<hr style=\"border:2px solid #34A853\"> </hr>"
   ]
  },
  {
   "cell_type": "markdown",
   "metadata": {},
   "source": [
    "<font size=\"3\">**1. Run the <span style=\"color:#4285F4\">1st cell</span> to run inference with specific**</font>\n",
    "\n",
    "><font size=\"3\">**weight path**</font><br>\n",
    "><font size=\"3\"></font><br>\n",
    "><font size=\"3\">**img size**</font><br>\n",
    "><font size=\"3\"></font><br>\n",
    "><font size=\"3\">**source path**</font>\n",
    "\n",
    "<img src=\"https://firebasestorage.googleapis.com/v0/b/yolo-tutorial.appspot.com/o/42.png?alt=media&token=54955591-eef0-40af-9e27-785a4bdb8339\" width=\"900\" align=\"left\"/>"
   ]
  },
  {
   "cell_type": "markdown",
   "metadata": {},
   "source": [
    "<font size=\"3\">**2. Results will be saved in <span style=\"color:#4285F4\">runs/detect/exp</span>, so run the <span style=\"color:#4285F4\">2nd cell</span> to display results**</font>\n",
    "\n",
    "<img src=\"https://firebasestorage.googleapis.com/v0/b/yolo-tutorial.appspot.com/o/43.png?alt=media&token=1f73fa68-3edf-4224-87c5-a098f0f618bc\" width=\"770\" align=\"left\"/>"
   ]
  },
  {
   "cell_type": "markdown",
   "metadata": {},
   "source": [
    "### <font color='#34A853'> Example - Local Machine</font>\n",
    "<hr style=\"border:2px solid #34A853\"> </hr>"
   ]
  },
  {
   "cell_type": "markdown",
   "metadata": {},
   "source": [
    "<font size=\"3\">**1. You can <span style=\"color:#4285F4\">save</span> and <span style=\"color:#4285F4\">download</span> your model, and deploy your model to an application with the following command:**</font>"
   ]
  },
  {
   "cell_type": "markdown",
   "metadata": {},
   "source": [
    "<img src=\"https://firebasestorage.googleapis.com/v0/b/yolo-tutorial.appspot.com/o/yolo6.gif?alt=media&token=1b8b0ec0-54d1-4a7a-98cd-a751bc8c73af\" width=\"400\" align=\"left\"/>"
   ]
  },
  {
   "cell_type": "markdown",
   "metadata": {},
   "source": [
    "<font size=\"3\">**2. Then you can put your model in a specific path. To keep the command aligned with the Colab Notebooks example, you can put the <span style=\"color:#4285F4\">best.pt</span> model into:**</font>\n",
    "    \n",
    "><font size=\"3\">**<span style=\"color:#4285F4\">yolov5\\runs\\train\\exp\\weights</span>**</font>"
   ]
  },
  {
   "cell_type": "markdown",
   "metadata": {},
   "source": [
    "\n",
    "\n",
    "\n",
    "<img src=\"https://firebasestorage.googleapis.com/v0/b/yolo-tutorial.appspot.com/o/45.png?alt=media&token=1ba9a257-9659-4291-ba34-1ee4a0ebb5b6\" width=\"700\" align=\"center\"/>\n",
    "\n"
   ]
  },
  {
   "cell_type": "markdown",
   "metadata": {},
   "source": [
    "<font size=\"3\">**3. Open an <span style=\"color:#4285F4\">Anaconda Prompt</span>**</font>\n",
    "    \n",
    "<img src=\"https://firebasestorage.googleapis.com/v0/b/yolo-tutorial.appspot.com/o/7.png?alt=media&token=fc6d33a1-6c36-4b71-a835-328183eeada9\" width=\"250\" align=\"left\"/>\n"
   ]
  },
  {
   "cell_type": "markdown",
   "metadata": {},
   "source": [
    "<font size=\"3\">**4. Activate the YOLO environment**</font>\n",
    "> <font size=\"3\">**<span style=\"color:#4285F4\">activate yolov5</span>**</font>\n",
    "\n",
    "<font size=\"3\">**5. Go to the YOLO folder**</font>\n",
    "\n",
    "<font size=\"3\">**6. Modify the following code to fit your detection purpose (Make sure the weight path aligned with step 2):**</font>\n",
    "\n",
    "<img src=\"https://firebasestorage.googleapis.com/v0/b/yolo-tutorial.appspot.com/o/46.png?alt=media&token=a7f8938d-bb84-47fe-88b4-1375fd4c219b\" width=\"1000\" align=\"center\"/>"
   ]
  },
  {
   "cell_type": "markdown",
   "metadata": {},
   "source": [
    "🌟🚀<font size=\"3\">**<span style=\"color:#4285F4\">RESULTS</span>**</font>🚀🚀🌟"
   ]
  },
  {
   "cell_type": "markdown",
   "metadata": {},
   "source": [
    "<img src=\"https://firebasestorage.googleapis.com/v0/b/yolo-tutorial.appspot.com/o/Gif%20with%20detection.gif?alt=media&token=f240cc66-a59f-4479-88ec-b9db1fc21ef7\" width=\"550\"/>"
   ]
  },
  {
   "cell_type": "markdown",
   "metadata": {},
   "source": [
    "<hr style=\"border:2px solid #34A853\"> </hr>"
   ]
  },
  {
   "cell_type": "markdown",
   "metadata": {},
   "source": [
    "<font size=\"3\">**Credit to:**</font>"
   ]
  },
  {
   "cell_type": "markdown",
   "metadata": {},
   "source": [
    "<img src=\"https://firebasestorage.googleapis.com/v0/b/yolo-tutorial.appspot.com/o/12.png?alt=media&token=f8292f39-b253-4867-ad1e-fc37b20f858b\" width=\"400\" align=\"left\"/>"
   ]
  }
 ],
 "metadata": {
  "kernelspec": {
   "display_name": "Python 3 (ipykernel)",
   "language": "python",
   "name": "python3"
  },
  "language_info": {
   "codemirror_mode": {
    "name": "ipython",
    "version": 3
   },
   "file_extension": ".py",
   "mimetype": "text/x-python",
   "name": "python",
   "nbconvert_exporter": "python",
   "pygments_lexer": "ipython3",
   "version": "3.8.8"
  }
 },
 "nbformat": 4,
 "nbformat_minor": 2
}
